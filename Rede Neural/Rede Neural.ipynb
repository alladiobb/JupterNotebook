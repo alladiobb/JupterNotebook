{
 "cells": [
  {
   "cell_type": "code",
   "execution_count": 1,
   "metadata": {},
   "outputs": [],
   "source": [
    "import numpy as np  \n",
    "import torch\n",
    "import torch.nn.functional as F\n",
    "import torchvision\n",
    "import matplotlib.pyplot as plt\n",
    "from time import time\n",
    "from torchvision import datasets, transforms\n",
    "from torch import nn, optim"
   ]
  },
  {
   "cell_type": "code",
   "execution_count": 6,
   "metadata": {},
   "outputs": [],
   "source": [
    "# Definindo a conversão de imagem para tensor\n",
    "transform = transforms.ToTensor()\n",
    "\n",
    "# Carregando a parte de treino do dataset\n",
    "trainset = datasets.MNIST('./MNIST_data/', download=True, train=True, transform=transform)\n",
    "\n",
    "# Criando um buffer para pegar os dados por partes\n",
    "trainloader = torch.utils.data.DataLoader(trainset, batch_size=64, shuffle=True)@\n",
    "\n",
    "# Carregando a parte de validação do dataset\n",
    "valset = datasets.MNIST('./MNIST_data/', download=True, train=False, transform=transform)\n",
    "\n",
    "# Criando um buffer para pegar os dados por partes\n",
    "valloader = torch.utils.data.DataLoader(valset, batch_size=64, shuffle=True)\n"
   ]
  },
  {
   "cell_type": "code",
   "execution_count": 57,
   "metadata": {},
   "outputs": [
    {
     "data": {
      "text/plain": [
       "torch.Tensor"
      ]
     },
     "execution_count": 57,
     "metadata": {},
     "output_type": "execute_result"
    }
   ],
   "source": [
    "dataiter = iter(trainloader)\n",
    "imagens, etiquetas = dataiter.__next__()\n",
    "# type(imagens)\n",
    "# plt.imshow(imagens[0].numpy().squeeze(), cmap='z_grey')"
   ]
  }
 ],
 "metadata": {
  "kernelspec": {
   "display_name": "Python 3",
   "language": "python",
   "name": "python3"
  },
  "language_info": {
   "codemirror_mode": {
    "name": "ipython",
    "version": 3
   },
   "file_extension": ".py",
   "mimetype": "text/x-python",
   "name": "python",
   "nbconvert_exporter": "python",
   "pygments_lexer": "ipython3",
   "version": "3.12.0"
  }
 },
 "nbformat": 4,
 "nbformat_minor": 2
}
