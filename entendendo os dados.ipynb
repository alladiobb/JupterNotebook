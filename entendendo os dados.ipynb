{
 "cells": [
  {
   "cell_type": "code",
   "execution_count": 38,
   "metadata": {},
   "outputs": [
    {
     "data": {
      "text/plain": [
       "<bound method Series.max of 0         S/N\n",
       "1         S/N\n",
       "2         S/N\n",
       "3         306\n",
       "4         306\n",
       "         ... \n",
       "281526    667\n",
       "281527    667\n",
       "281528    667\n",
       "281529      1\n",
       "281530      1\n",
       "Name: Numero Rua, Length: 281531, dtype: object>"
      ]
     },
     "execution_count": 38,
     "metadata": {},
     "output_type": "execute_result"
    }
   ],
   "source": [
    "import pandas as pd\n",
    "\n",
    "caminho = r'C:\\dados\\ca.csv'\n",
    "\n",
    "df = pd.read_csv(caminho, sep=';')\n",
    "\n",
    "\n",
    "# df.head(2)\n",
    "# df.describe()\n",
    "# df['Regiao - Sigla'].hist()\n",
    "# coluna = df['Numero Rua']\n",
    "# coluna.max()\n",
    "# df['Regiao - Sigla'].mean()\n",
    "\n",
    "# df.apply(lambda x: len(str(x))).max()\n",
    "# coluna.apply(lambda x: len(str(x))).min()\n",
    "# df.describe()\n",
    "\n",
    "\n",
    "# df['Numero Rua'].max\n",
    "\n",
    "def max_length(coluna):\n",
    "  return coluna.apply(lambda x: len(str(x))).max()\n",
    "\n",
    "max_caracteres = []\n",
    "for coluna in df.columns:\n",
    "  max_caracteres.append(max_length(df[coluna]))\n",
    "\n",
    "\n",
    "max_caracteres\n",
    "\n",
    "#[2, 2, 27, 99, 19, 73, 18, 91, 46, 9, 8, 10, 6, 7, 10, 28]"
   ]
  }
 ],
 "metadata": {
  "kernelspec": {
   "display_name": "Python 3",
   "language": "python",
   "name": "python3"
  },
  "language_info": {
   "codemirror_mode": {
    "name": "ipython",
    "version": 3
   },
   "file_extension": ".py",
   "mimetype": "text/x-python",
   "name": "python",
   "nbconvert_exporter": "python",
   "pygments_lexer": "ipython3",
   "version": "3.12.0"
  }
 },
 "nbformat": 4,
 "nbformat_minor": 2
}
