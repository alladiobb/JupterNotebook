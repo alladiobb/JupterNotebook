{
 "cells": [
  {
   "cell_type": "code",
   "execution_count": 41,
   "metadata": {},
   "outputs": [
    {
     "name": "stdout",
     "output_type": "stream",
     "text": [
      "              colunas  caracteries\n",
      "0      Regiao - Sigla            2\n",
      "1      Estado - Sigla            2\n",
      "2           Municipio           27\n",
      "3             Revenda           99\n",
      "4     CNPJ da Revenda           19\n",
      "5         Nome da Rua           73\n",
      "6          Numero Rua           18\n",
      "7         Complemento           91\n",
      "8              Bairro           46\n",
      "9                 Cep            9\n",
      "10            Produto            8\n",
      "11     Data da Coleta           10\n",
      "12     Valor de Venda            6\n",
      "13    Valor de Compra            7\n",
      "14  Unidade de Medida           10\n",
      "15           Bandeira           28\n"
     ]
    }
   ],
   "source": [
    "import pandas as pd\n",
    "\n",
    "#Sabemos que temos que fazer isso direto para entender os dados...\n",
    "#Porém não se esqueça que se tivessemos um arquiteto de dados teriamos\n",
    "#bem mais performance por isso já não ser um problemão e ter que ter \n",
    "#a fazer refação\n",
    "caminho = r'C:\\dados\\ca.csv'\n",
    "\n",
    "df = pd.read_csv(caminho, sep=';')\n",
    "\n",
    "#Aqui tentamos achar algumas caracteristicas da coluna:\n",
    "# df.head(2)\n",
    "# df.describe()\n",
    "# df['Regiao - Sigla'].hist()\n",
    "# coluna = df['Numero Rua']\n",
    "# coluna.max()\n",
    "# df['Regiao - Sigla'].mean()\n",
    "\n",
    "# df.apply(lambda x: len(str(x))).max()\n",
    "# coluna.apply(lambda x: len(str(x))).min()\n",
    "# df.describe()\n",
    "\n",
    "\n",
    "# df['Numero Rua'].max\n",
    "\n",
    "#Como não conseguimos achar o número de colunas certa\n",
    "#fizemos um código para achar dessa que r\n",
    "def max_length(coluna):\n",
    "  return coluna.apply(lambda x: len(str(x))).max()\n",
    "\n",
    "\n",
    "def min_length(coluna):\n",
    "  return coluna.apply(lambda x: len(str(x))).min()\n",
    "\n",
    "max_caracteres = []\n",
    "min_caracteres = []\n",
    "\n",
    "for coluna in df.columns:\n",
    "  max_caracteres.append(max_length(df[coluna]))\n",
    "\n",
    "for coluna in df.columns:\n",
    "  min_caracteres.append(min_length(df[coluna]))\n",
    "\n",
    "# novo_df = pd.DataFrame([max_caracteres], columns=df.columns, )\n",
    "# novo_df\n",
    "\n",
    "#Aqui ele vai imprimir na vertical\n",
    "novo_df = pd.DataFrame({\n",
    "  'colunas':df.columns,\n",
    "  'Max Caracteries' : max_caracteres,\n",
    "  'Min Caracteries' : min_caracteres\n",
    "})\n",
    "\n",
    "print(novo_df)\n",
    "\n",
    "# max_caracteres\n",
    "\n",
    "# novo_df['Máximo Caracteres'] = novo_df['Máximo Caracteres'].astype(str)\n",
    "#[2, 2, 27, 99, 19, 73, 18, 91, 46, 9, 8, 10, 6, 7, 10, 28]"
   ]
  }
 ],
 "metadata": {
  "kernelspec": {
   "display_name": "Python 3",
   "language": "python",
   "name": "python3"
  },
  "language_info": {
   "codemirror_mode": {
    "name": "ipython",
    "version": 3
   },
   "file_extension": ".py",
   "mimetype": "text/x-python",
   "name": "python",
   "nbconvert_exporter": "python",
   "pygments_lexer": "ipython3",
   "version": "3.12.0"
  }
 },
 "nbformat": 4,
 "nbformat_minor": 2
}
