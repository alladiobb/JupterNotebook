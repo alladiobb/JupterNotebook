{
 "cells": [
  {
   "cell_type": "code",
   "execution_count": 9,
   "metadata": {},
   "outputs": [],
   "source": [
    "import pandas as pd\n",
    "\n",
    "#Sabemos que temos que fazer isso direto para entender os dados...\n",
    "#Porém não se esqueça que se tivessemos um arquiteto de dados teriamos\n",
    "#bem mais performance por isso já não ser um problemão e ter que ter \n",
    "#a fazer refação\n",
    "caminho = r'C:\\dados\\ca.csv'\n",
    "\n",
    "df = pd.read_csv(caminho, sep=';')\n",
    "\n",
    "#Aqui tentamos achar algumas caracteristicas da coluna:\n",
    "# df.head(2)\n",
    "# df.describe()\n",
    "# df['Regiao - Sigla'].hist()\n",
    "# coluna = df['Numero Rua']\n",
    "# coluna.max()\n",
    "# df['Regiao - Sigla'].mean()\n",
    "\n",
    "# df.apply(lambda x: len(str(x))).max()\n",
    "# coluna.apply(lambda x: len(str(x))).min()\n",
    "# df.describe()\n",
    "\n",
    "\n",
    "# df['Numero Rua'].max\n",
    "\n",
    "#Como não conseguimos achar o número de colunas certa\n",
    "#fizemos um código para achar dessa que r\n",
    "def max_length(coluna):\n",
    "  return coluna.apply(lambda x: len(str(x))).max()\n",
    "\n",
    "max_caracteres = []\n",
    "for coluna in df.columns:\n",
    "  max_caracteres.append(max_length(df[coluna]))\n",
    "\n",
    "novo_df = pd.DataFrame({\n",
    "  'Coluna': df.columns,\n",
    "  'Máximo Caracteres': max_caracteres\n",
    "})\n",
    "\n",
    "# max_caracteres\n",
    "\n",
    "# novo_df['Máximo Caracteres'] = novo_df['Máximo Caracteres'].astype(str)\n",
    "\n",
    "print(novo_df.to_string(index=False))\n",
    "#[2, 2, 27, 99, 19, 73, 18, 91, 46, 9, 8, 10, 6, 7, 10, 28]"
   ]
  }
 ],
 "metadata": {
  "kernelspec": {
   "display_name": "Python 3",
   "language": "python",
   "name": "python3"
  },
  "language_info": {
   "codemirror_mode": {
    "name": "ipython",
    "version": 3
   },
   "file_extension": ".py",
   "mimetype": "text/x-python",
   "name": "python",
   "nbconvert_exporter": "python",
   "pygments_lexer": "ipython3",
   "version": "3.12.0"
  }
 },
 "nbformat": 4,
 "nbformat_minor": 2
}
