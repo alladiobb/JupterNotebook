# importando a biblioteca pandas
import pandas as pd

# inicializando uma lista com listas
data = [['tom', 10], ['nick', 15], ['juli', 14]]

# Criando um dataframe do pandas
df = pd.DataFrame(data, columns=['Nome', 'Idade'])

# mostrando o dataframe
print(df)